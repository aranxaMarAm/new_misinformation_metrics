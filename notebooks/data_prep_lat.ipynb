{
 "cells": [
  {
   "cell_type": "markdown",
   "metadata": {},
   "source": [
    "# Latinobarómetro"
   ]
  },
  {
   "cell_type": "code",
   "execution_count": 5,
   "metadata": {},
   "outputs": [
    {
     "name": "stdout",
     "output_type": "stream",
     "text": [
      "Current working directory: /Users/aranxamarquezampudia/Desktop/master_thesis/misinformation_thesis\n",
      "File not found: ../F00011664_Latinobarometro_Serie_de_Tiempo_1995_2020.xlsx\n"
     ]
    }
   ],
   "source": [
    "import os\n",
    "import pandas as pd\n",
    "\n",
    "# Read Excel file from data file path\n",
    "\n",
    "# Check the current working directory\n",
    "print(\"Current working directory:\", os.getcwd())\n",
    "\n",
    "# Update the file path to the correct location\n",
    "file_path = '../F00011664_Latinobarometro_Serie_de_Tiempo_1995_2020.xlsx'\n",
    "\n",
    "# Verify if the file exists\n",
    "if os.path.exists(file_path):\n",
    "\tdf_lb = pd.read_excel(file_path)\n",
    "else:\n",
    "\tprint(f\"File not found: {file_path}\")"
   ]
  },
  {
   "cell_type": "code",
   "execution_count": null,
   "metadata": {},
   "outputs": [],
   "source": [
    "### Function to get the questions that where asked from 2000 to 2020 in the Latinobarometro survey"
   ]
  }
 ],
 "metadata": {
  "kernelspec": {
   "display_name": "NLP",
   "language": "python",
   "name": "python3"
  },
  "language_info": {
   "codemirror_mode": {
    "name": "ipython",
    "version": 3
   },
   "file_extension": ".py",
   "mimetype": "text/x-python",
   "name": "python",
   "nbconvert_exporter": "python",
   "pygments_lexer": "ipython3",
   "version": "3.10.14"
  }
 },
 "nbformat": 4,
 "nbformat_minor": 2
}
