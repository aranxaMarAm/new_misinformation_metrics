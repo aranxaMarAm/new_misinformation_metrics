{
 "cells": [
  {
   "cell_type": "markdown",
   "metadata": {},
   "source": [
    "# Latent Dirichlet Allocation"
   ]
  },
  {
   "cell_type": "markdown",
   "metadata": {},
   "source": [
    "Following Mirko Draca and Carlo Schwarz selection of WVS questions and waves"
   ]
  },
  {
   "cell_type": "code",
   "execution_count": null,
   "metadata": {},
   "outputs": [],
   "source": [
    "#pip install -r requirements.txt"
   ]
  },
  {
   "cell_type": "code",
   "execution_count": 1,
   "metadata": {},
   "outputs": [],
   "source": [
    "import os\n",
    "import pandas as pd\n",
    "\n",
    "df_wvs = pd.read_csv('../master_thesis_R/wvs_ts_w1_w7.csv')"
   ]
  },
  {
   "cell_type": "code",
   "execution_count": null,
   "metadata": {},
   "outputs": [],
   "source": [
    "import pandas as pd\n",
    "\n",
    "def recode_survey_responses(df, question_columns, neutral_values={3, 5}):\n",
    "    \"\"\"\n",
    "    Following Mirko and Schwarz methodology, this function recodes World Value Survey responses into two indicator variables (support and oppose), \n",
    "    imputes missing values with the sample mean of the non-missing data in the same wave,\n",
    "    and calculates the share of positive and negative responses.\n",
    "    \n",
    "    Parameters:\n",
    "    df (pd.DataFrame): The original World Value Survey DataFrame (many waves in this df)\n",
    "    question_columns (list): List of columns we wish to transform.\n",
    "    neutral_values (set): Values that represent neutrality, default is {3, 5}. \n",
    "    \n",
    "    Returns:\n",
    "    pd.DataFrame: A transformed DataFrame with support/oppose indicators for each country and years.\n",
    "    \"\"\"\n",
    "    \n",
    "    new_df = df_wvs.rename(columns={\"COUNTRY_ALPHA\": \"country\", \"S020\": \"year\"}).copy()  \n",
    "\n",
    " # Impute missing values (negative values) with the sample mean of non-missing data\n",
    "    for col in question_columns:\n",
    "        valid_values = new_df[new_df[col] >= 0][col]  # Exclude negative values (missing data)\n",
    "        mean_value = valid_values.mean()\n",
    "        new_df[col] = new_df[col].apply(lambda x: mean_value if x < 0 else x)\n",
    "    \n",
    "    share_data = {\"country\": new_df[\"country\"], \"year\": new_df[\"year\"]}\n",
    "    \n",
    "    for col in question_columns:\n",
    "        # Create support and oppose indicator variables\n",
    "        support_col = new_df[col].apply(lambda x: 1 if x not in neutral_values and x > min(neutral_values) else 0)\n",
    "        oppose_col = new_df[col].apply(lambda x: 1 if x not in neutral_values and x < min(neutral_values) else 0)\n",
    "        \n",
    "        # Calculate share of support and oppose\n",
    "        total_responses = len(new_df[col].dropna())\n",
    "        support_share = support_col.sum() / total_responses if total_responses > 0 else 0\n",
    "        oppose_share = oppose_col.sum() / total_responses if total_responses > 0 else 0\n",
    "        \n",
    "        share_data[f\"{col}_support\"] = support_share\n",
    "        share_data[f\"{col}_oppose\"] = oppose_share\n",
    "    \n",
    "    return pd.DataFrame([share_data])\n",
    "\n",
    "# Example Usage:\n",
    "# Assuming survey data is loaded into a DataFrame 'df' with question columns listed in 'question_columns'\n",
    "\n"
   ]
  },
  {
   "cell_type": "code",
   "execution_count": null,
   "metadata": {},
   "outputs": [],
   "source": [
    "## Define the columns to be recoded\n",
    "question_columns = [\"A124_02\", \"A124_06\", \"A124_07\", \"A124_08\", \"A124_09\", \"C002\", \"E036\", \"E037\", \"E039\", \"F114A\", \"F115\", \"F116\", \"F117\", \"F118\", \"F119\", \"F120\", \"F121\", \"F122\", \"F123\"]\n",
    "    \n",
    "recode_survey_responses(df_wvs, question_columns)"
   ]
  }
 ],
 "metadata": {
  "kernelspec": {
   "display_name": "NLP",
   "language": "python",
   "name": "python3"
  },
  "language_info": {
   "codemirror_mode": {
    "name": "ipython",
    "version": 3
   },
   "file_extension": ".py",
   "mimetype": "text/x-python",
   "name": "python",
   "nbconvert_exporter": "python",
   "pygments_lexer": "ipython3",
   "version": "3.10.14"
  }
 },
 "nbformat": 4,
 "nbformat_minor": 2
}
